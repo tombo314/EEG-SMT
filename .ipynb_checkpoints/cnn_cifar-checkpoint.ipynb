{
 "cells": [
  {
   "cell_type": "code",
   "execution_count": 34,
   "id": "d8b2038b",
   "metadata": {},
   "outputs": [
    {
     "data": {
      "text/html": [
       "<style>div.output_scroll { height: unset; }</style>"
      ],
      "text/plain": [
       "<IPython.core.display.HTML object>"
      ]
     },
     "metadata": {},
     "output_type": "display_data"
    },
    {
     "name": "stdout",
     "output_type": "stream",
     "text": [
      "Epoch 1/8\n",
      "1407/1407 [==============================] - 120s 85ms/step - loss: 1.6222 - accuracy: 0.4162 - val_loss: 1.4208 - val_accuracy: 0.5016\n",
      "Epoch 2/8\n",
      "1407/1407 [==============================] - 119s 85ms/step - loss: 1.3030 - accuracy: 0.5369 - val_loss: 1.2397 - val_accuracy: 0.5610\n",
      "Epoch 3/8\n",
      "1407/1407 [==============================] - 121s 86ms/step - loss: 1.1730 - accuracy: 0.5876 - val_loss: 1.1221 - val_accuracy: 0.5960\n",
      "Epoch 4/8\n",
      "1407/1407 [==============================] - 120s 85ms/step - loss: 1.0680 - accuracy: 0.6279 - val_loss: 1.0305 - val_accuracy: 0.6448\n",
      "Epoch 5/8\n",
      "1407/1407 [==============================] - 121s 86ms/step - loss: 0.9844 - accuracy: 0.6571 - val_loss: 0.9649 - val_accuracy: 0.6730\n",
      "Epoch 6/8\n",
      "1407/1407 [==============================] - 115s 82ms/step - loss: 0.9149 - accuracy: 0.6848 - val_loss: 0.9152 - val_accuracy: 0.6898\n",
      "Epoch 7/8\n",
      "1407/1407 [==============================] - 114s 81ms/step - loss: 0.8503 - accuracy: 0.7080 - val_loss: 0.8867 - val_accuracy: 0.6948\n",
      "Epoch 8/8\n",
      "1407/1407 [==============================] - 114s 81ms/step - loss: 0.7959 - accuracy: 0.7263 - val_loss: 0.8443 - val_accuracy: 0.7146\n"
     ]
    },
    {
     "data": {
      "text/plain": [
       "0.6976"
      ]
     },
     "execution_count": 34,
     "metadata": {},
     "output_type": "execute_result"
    },
    {
     "data": {
      "text/plain": [
       "<Figure size 432x288 with 0 Axes>"
      ]
     },
     "metadata": {},
     "output_type": "display_data"
    }
   ],
   "source": [
    "%config IPCompleter.greedy=True\n",
    "\n",
    "from IPython.core.display import display, HTML\n",
    "display(HTML(\"<style>div.output_scroll { height: unset; }</style>\"))\n",
    "import warnings\n",
    "warnings.simplefilter(\"ignore\")\n",
    "\n",
    "from sklearn.metrics import accuracy_score\n",
    "from tensorflow.keras.models import Sequential\n",
    "from tensorflow.keras.layers import Conv2D\n",
    "from tensorflow.keras.layers import MaxPool2D\n",
    "from tensorflow.keras.optimizers import Adam\n",
    "from tensorflow.keras.layers import Dense, Activation, Dropout, Flatten\n",
    "from tensorflow.keras.utils import plot_model, to_categorical\n",
    "from tensorflow.keras.models import load_model\n",
    "from keras.utils import np_utils\n",
    "from tensorflow.keras.callbacks import TensorBoard\n",
    "from tensorflow.keras.datasets import cifar10\n",
    "from PIL import Image\n",
    "from IPython.display import display\n",
    "import matplotlib.pyplot as plt\n",
    "plt.gray()\n",
    "import cv2\n",
    "import numpy as np\n",
    "\n",
    "model = load_model(\"models/cifar10.h5\")\n",
    "\n",
    "(X_train, y_train),(X_test, y_test) = cifar10.load_data()\n",
    "\n",
    "nb_classes = 10\n",
    "\n",
    "X_train = X_train.astype('float32')\n",
    "X_test = X_test.astype('float32')\n",
    "X_train /= 255.0\n",
    "X_test /= 255.0\n",
    "Y_train = to_categorical(y_train, nb_classes)\n",
    "Y_test = np_utils.to_categorical(y_test, nb_classes)\n",
    "\n",
    "model = Sequential()\n",
    "\n",
    "model.add(Conv2D(32,3,input_shape=(32,32,3)))\n",
    "model.add(Activation('relu'))\n",
    "model.add(Conv2D(32,3))\n",
    "model.add(Activation('relu'))\n",
    "model.add(MaxPool2D(pool_size=(2,2)))\n",
    "\n",
    "model.add(Conv2D(64,3))\n",
    "model.add(Activation('relu'))\n",
    "model.add(MaxPool2D(pool_size=(2,2)))\n",
    "\n",
    "model.add(Flatten())\n",
    "model.add(Dense(1024))\n",
    "model.add(Activation('relu'))\n",
    "model.add(Dropout(0.2))\n",
    "model.add(Dense(nb_classes, activation='softmax'))\n",
    "\n",
    "adam = Adam(lr=1e-4)\n",
    "model.compile(optimizer=adam, loss='categorical_crossentropy', metrics=[\"accuracy\"])\n",
    "model.fit(X_train, Y_train, batch_size=32, epochs=8, verbose=1, validation_split=0.1)\n",
    "\n",
    "model.save(\"models/cifar10.h5\")\n",
    "\n",
    "model = load_model(\"models/cifar10.h5\")\n",
    "pred = model.predict(X_test)\n",
    "Y_test = np.argmax(Y_test, axis=1)\n",
    "pred = np.argmax(pred, axis=1)\n",
    "accuracy_score(pred, Y_test)"
   ]
  }
 ],
 "metadata": {
  "kernelspec": {
   "display_name": "Python 3 (ipykernel)",
   "language": "python",
   "name": "python3"
  },
  "language_info": {
   "codemirror_mode": {
    "name": "ipython",
    "version": 3
   },
   "file_extension": ".py",
   "mimetype": "text/x-python",
   "name": "python",
   "nbconvert_exporter": "python",
   "pygments_lexer": "ipython3",
   "version": "3.9.6"
  }
 },
 "nbformat": 4,
 "nbformat_minor": 5
}
