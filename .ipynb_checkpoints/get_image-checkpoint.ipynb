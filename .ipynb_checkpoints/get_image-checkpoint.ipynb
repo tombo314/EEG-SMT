{
 "cells": [
  {
   "cell_type": "code",
   "execution_count": 7,
   "id": "4fb41551",
   "metadata": {
    "scrolled": true
   },
   "outputs": [
    {
     "data": {
      "text/html": [
       "<style>div.output_scroll { height: unset; }</style>"
      ],
      "text/plain": [
       "<IPython.core.display.HTML object>"
      ]
     },
     "metadata": {},
     "output_type": "display_data"
    }
   ],
   "source": [
    "%config IPCompleter.greedy=True\n",
    "\n",
    "from IPython.core.display import display, HTML\n",
    "display(HTML(\"<style>div.output_scroll { height: unset; }</style>\"))\n",
    "import warnings\n",
    "warnings.simplefilter(\"ignore\")\n",
    "\n",
    "from PIL import Image\n",
    "from bs4 import BeautifulSoup\n",
    "import requests as req\n",
    "import cv2\n",
    "import matplotlib.pyplot as plt\n",
    "import numpy as np\n",
    "\n",
    "# # apple\n",
    "# url = \"\"\n",
    "# r = req.get(url)\n",
    "# bs = BeautifulSoup(r.content, \"html.parser\")\n",
    "# elems = bs.select(\"img\")\n",
    "# apple = []\n",
    "# for elem in elems:\n",
    "#     apple.append(elem.get(\"src\"))\n",
    "\n",
    "# start_idx = 92\n",
    "# url = apple[1:]\n",
    "# for i in range(start_idx, len(url)+start_idx):\n",
    "#     res = req.get(url[i-start_idx])\n",
    "#     with open(f\"images/apple/apple_{i}.jpg\", \"wb\") as f:\n",
    "#         f.write(res.content)\n",
    "\n",
    "# # banana\n",
    "# url = \"\"\n",
    "# r = req.get(url)\n",
    "# bs = BeautifulSoup(r.content, \"html.parser\")\n",
    "# elems = bs.select(\"img\")\n",
    "# banana = []\n",
    "# for elem in elems:\n",
    "#     banana.append(elem.get(\"src\"))\n",
    "\n",
    "# start_idx = 98\n",
    "# url = banana[1:]\n",
    "# for i in range(start_idx, len(url)+start_idx):\n",
    "#     res = req.get(url[i-start_idx])\n",
    "#     with open(f\"images/banana/banana_{i}.jpg\", \"wb\") as f:\n",
    "#         f.write(res.content)"
   ]
  }
 ],
 "metadata": {
  "kernelspec": {
   "display_name": "Python 3 (ipykernel)",
   "language": "python",
   "name": "python3"
  },
  "language_info": {
   "codemirror_mode": {
    "name": "ipython",
    "version": 3
   },
   "file_extension": ".py",
   "mimetype": "text/x-python",
   "name": "python",
   "nbconvert_exporter": "python",
   "pygments_lexer": "ipython3",
   "version": "3.9.6"
  }
 },
 "nbformat": 4,
 "nbformat_minor": 5
}
