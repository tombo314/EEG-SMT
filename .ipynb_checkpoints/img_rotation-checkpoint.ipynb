{
 "cells": [
  {
   "cell_type": "code",
   "execution_count": 21,
   "id": "10ea8755",
   "metadata": {},
   "outputs": [
    {
     "data": {
      "text/plain": [
       "<Figure size 432x288 with 0 Axes>"
      ]
     },
     "metadata": {},
     "output_type": "display_data"
    }
   ],
   "source": [
    "from PIL import Image\n",
    "import matplotlib.pyplot as plt\n",
    "import cv2\n",
    "plt.gray()\n",
    "\n",
    "# n = 100\n",
    "# for i in range(1, n+1):\n",
    "#     path = f\"images/banana/banana_{i}.jpg\"\n",
    "#     img = cv2.imread(path)\n",
    "#     img = cv2.rotate(img, 0)\n",
    "#     cv2.imwrite(f\"images/banana/banana_{i+100}.jpg\", img)\n",
    "#     img = cv2.rotate(img, 0)\n",
    "#     cv2.imwrite(f\"images/banana/banana_{i+200}.jpg\", img)\n",
    "#     img = cv2.rotate(img, 0)\n",
    "#     cv2.imwrite(f\"images/banana/banana_{i+300}.jpg\", img)"
   ]
  }
 ],
 "metadata": {
  "kernelspec": {
   "display_name": "Python 3 (ipykernel)",
   "language": "python",
   "name": "python3"
  },
  "language_info": {
   "codemirror_mode": {
    "name": "ipython",
    "version": 3
   },
   "file_extension": ".py",
   "mimetype": "text/x-python",
   "name": "python",
   "nbconvert_exporter": "python",
   "pygments_lexer": "ipython3",
   "version": "3.9.6"
  }
 },
 "nbformat": 4,
 "nbformat_minor": 5
}
