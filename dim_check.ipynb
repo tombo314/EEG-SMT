{
 "cells": [
  {
   "cell_type": "code",
   "execution_count": 2,
   "id": "388e8cb9",
   "metadata": {},
   "outputs": [
    {
     "name": "stdout",
     "output_type": "stream",
     "text": [
      "apple:\n",
      "banana:\n"
     ]
    }
   ],
   "source": [
    "from PIL import Image\n",
    "import numpy as np\n",
    "\n",
    "# apple\n",
    "print(\"apple:\")\n",
    "for i in range(1, 401):\n",
    "    try:\n",
    "        if len(np.array(Image.open(f\"images/apple/apple_{i}.jpg\")).shape)==2:\n",
    "            print(i)\n",
    "    except:\n",
    "        pass\n",
    "\n",
    "# banana\n",
    "print(\"banana:\")\n",
    "for i in range(1, 401):\n",
    "    try:\n",
    "        if len(np.array(Image.open(f\"images/banana/banana_{i}.jpg\")).shape)==2:\n",
    "            print(i)\n",
    "    except:\n",
    "        pass"
   ]
  }
 ],
 "metadata": {
  "kernelspec": {
   "display_name": "Python 3 (ipykernel)",
   "language": "python",
   "name": "python3"
  },
  "language_info": {
   "codemirror_mode": {
    "name": "ipython",
    "version": 3
   },
   "file_extension": ".py",
   "mimetype": "text/x-python",
   "name": "python",
   "nbconvert_exporter": "python",
   "pygments_lexer": "ipython3",
   "version": "3.9.6"
  }
 },
 "nbformat": 4,
 "nbformat_minor": 5
}
