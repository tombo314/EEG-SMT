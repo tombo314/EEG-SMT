{
 "cells": [
  {
   "cell_type": "code",
   "execution_count": 36,
   "id": "d8b2038b",
   "metadata": {
    "scrolled": false
   },
   "outputs": [
    {
     "data": {
      "text/html": [
       "<style>div.output_scroll { height: unset; }</style>"
      ],
      "text/plain": [
       "<IPython.core.display.HTML object>"
      ]
     },
     "metadata": {},
     "output_type": "display_data"
    },
    {
     "name": "stdout",
     "output_type": "stream",
     "text": [
      "Epoch 1/8\n",
      "16/16 [==============================] - 51s 3s/step - loss: 0.6185 - accuracy: 0.7123 - val_loss: 0.2004 - val_accuracy: 0.9643\n",
      "Epoch 2/8\n",
      "16/16 [==============================] - 47s 3s/step - loss: 0.1274 - accuracy: 0.9722 - val_loss: 0.1372 - val_accuracy: 0.9643\n",
      "Epoch 3/8\n",
      "16/16 [==============================] - 46s 3s/step - loss: 0.0919 - accuracy: 0.9802 - val_loss: 0.0865 - val_accuracy: 0.9643\n",
      "Epoch 4/8\n",
      "16/16 [==============================] - 46s 3s/step - loss: 0.0663 - accuracy: 0.9881 - val_loss: 0.0825 - val_accuracy: 0.9643\n",
      "Epoch 5/8\n",
      "16/16 [==============================] - 45s 3s/step - loss: 0.0498 - accuracy: 0.9861 - val_loss: 0.0587 - val_accuracy: 0.9821\n",
      "Epoch 6/8\n",
      "16/16 [==============================] - 46s 3s/step - loss: 0.0521 - accuracy: 0.9901 - val_loss: 0.0363 - val_accuracy: 0.9643\n",
      "Epoch 7/8\n",
      "16/16 [==============================] - 46s 3s/step - loss: 0.0537 - accuracy: 0.9861 - val_loss: 0.0817 - val_accuracy: 0.9643\n",
      "Epoch 8/8\n",
      "16/16 [==============================] - 46s 3s/step - loss: 0.0204 - accuracy: 0.9921 - val_loss: 0.0203 - val_accuracy: 1.0000\n"
     ]
    },
    {
     "data": {
      "text/plain": [
       "0.9958333333333333"
      ]
     },
     "execution_count": 36,
     "metadata": {},
     "output_type": "execute_result"
    },
    {
     "data": {
      "text/plain": [
       "<Figure size 432x288 with 0 Axes>"
      ]
     },
     "metadata": {},
     "output_type": "display_data"
    }
   ],
   "source": [
    "%config IPCompleter.greedy=True\n",
    "\n",
    "from IPython.core.display import display, HTML\n",
    "display(HTML(\"<style>div.output_scroll { height: unset; }</style>\"))\n",
    "import warnings\n",
    "warnings.simplefilter(\"ignore\")\n",
    "\n",
    "from sklearn.model_selection import train_test_split\n",
    "from sklearn.metrics import accuracy_score\n",
    "from tensorflow.keras.models import Sequential, load_model\n",
    "from tensorflow.keras.optimizers import Adam\n",
    "from tensorflow.keras.layers import Dense, Activation, Dropout, Flatten, Conv2D, MaxPool2D\n",
    "from tensorflow.keras.utils import plot_model, to_categorical\n",
    "from keras.utils import np_utils\n",
    "from tensorflow.keras.callbacks import TensorBoard\n",
    "from tensorflow.keras.datasets import cifar10\n",
    "from PIL import Image\n",
    "from random import shuffle\n",
    "from time import time\n",
    "import matplotlib.pyplot as plt\n",
    "plt.gray()\n",
    "import cv2\n",
    "import numpy as np\n",
    "import pandas as pd\n",
    "\n",
    "n = 400\n",
    "height = 84\n",
    "width = 84\n",
    "X_tmp = np.zeros((2*n, height, width, 3))\n",
    "for i in range(n):\n",
    "    img = np.array(Image.open(f\"images/apple/apple_{i+1}.jpg\"))\n",
    "    X_tmp[i*2] = cv2.resize(img, dsize=[width, height])\n",
    "    img = np.array(Image.open(f\"images/banana/banana_{i+1}.jpg\"))\n",
    "    X_tmp[i*2+1] = cv2.resize(img, dsize=[width, height])\n",
    "X_tmp = X_tmp.astype(\"float32\")\n",
    "X_tmp /= 255\n",
    "Y_tmp = [[0] if i%2==0 else [1] for i in range(2*n)]\n",
    "\n",
    "X_train = []\n",
    "Y_train = []\n",
    "X_test = []\n",
    "Y_test = []\n",
    "train_size = int(2*n*0.7)\n",
    "test_size = 2*n-train_size\n",
    "rand = list(range(2*n))\n",
    "shuffle(rand)\n",
    "for i in range(train_size):\n",
    "    X_train.append(X_tmp[rand[i]])\n",
    "    Y_train.append(Y_tmp[rand[i]])\n",
    "for i in range(test_size):\n",
    "    X_test.append(X_tmp[rand[i]])\n",
    "    Y_test.append(Y_tmp[rand[i]])\n",
    "X_train = np.array(X_train)\n",
    "Y_train = np.array(Y_train)\n",
    "X_test = np.array(X_test)\n",
    "Y_test = np.array(Y_test)\n",
    "\n",
    "nb_classes = 10\n",
    "Y_train = to_categorical(Y_train, nb_classes)\n",
    "\n",
    "model = Sequential()\n",
    "\n",
    "model.add(Conv2D(height,3,input_shape=(height,width,3)))\n",
    "model.add(Activation('relu'))\n",
    "model.add(Conv2D(height,3))\n",
    "model.add(Activation('relu'))\n",
    "model.add(MaxPool2D(pool_size=(2,2)))\n",
    "\n",
    "model.add(Conv2D(height,3))\n",
    "model.add(Activation('relu'))\n",
    "model.add(MaxPool2D(pool_size=(2,2)))\n",
    "\n",
    "model.add(Flatten())\n",
    "model.add(Dense(height*width))\n",
    "model.add(Activation('relu'))\n",
    "model.add(Dropout(0.3))\n",
    "model.add(Dense(nb_classes, activation='softmax'))\n",
    "\n",
    "adam = Adam(lr=1e-4)\n",
    "model.compile(optimizer=adam, loss='categorical_crossentropy', metrics=[\"accuracy\"])\n",
    "model.fit(X_train, Y_train, batch_size=32, epochs=8, verbose=1, validation_split=0.1)\n",
    "\n",
    "model.save(\"models/apple_banana.h5\")\n",
    "\n",
    "pred = model.predict(X_test)\n",
    "pred = np.argmax(pred, axis=1)\n",
    "accuracy_score(pred, Y_test)"
   ]
  }
 ],
 "metadata": {
  "kernelspec": {
   "display_name": "Python 3 (ipykernel)",
   "language": "python",
   "name": "python3"
  },
  "language_info": {
   "codemirror_mode": {
    "name": "ipython",
    "version": 3
   },
   "file_extension": ".py",
   "mimetype": "text/x-python",
   "name": "python",
   "nbconvert_exporter": "python",
   "pygments_lexer": "ipython3",
   "version": "3.9.6"
  }
 },
 "nbformat": 4,
 "nbformat_minor": 5
}
